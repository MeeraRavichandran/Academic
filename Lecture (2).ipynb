{
  "metadata": {
    "language_info": {
      "codemirror_mode": {
        "name": "python",
        "version": 3
      },
      "file_extension": ".py",
      "mimetype": "text/x-python",
      "name": "python",
      "nbconvert_exporter": "python",
      "pygments_lexer": "ipython3",
      "version": "3.8"
    },
    "kernelspec": {
      "name": "python",
      "display_name": "Python (Pyodide)",
      "language": "python"
    }
  },
  "nbformat_minor": 4,
  "nbformat": 4,
  "cells": [
    {
      "cell_type": "markdown",
      "source": "# Objectives\n### 1) Compare and contrast between an integer, float, string, and list variable\n### 2) Using python, demonstrate the ability to create a variable and use the print function to call it\n### 3) When creating a list variable, demonstrate the ability to index, slice, and append the list.",
      "metadata": {}
    },
    {
      "cell_type": "markdown",
      "source": "# Objective 1 \n\n1) an **integer** is a whole number   \n    example: 4\n2) a **string** is a word  \n    example: \"word\", 'python'\n3) a **float** is a number with trailing decimals   \n    example: 3.141567\n4) a **list** is well....a list that can contain any of the variables we have mentioned, even lists!   \n    example: [4, 3.567, \"four\", [1, 2, 3] ]",
      "metadata": {}
    },
    {
      "cell_type": "markdown",
      "source": "# Objective 2",
      "metadata": {}
    },
    {
      "cell_type": "code",
      "source": "#Creating (or defining) a variable\n\na = \"hello\" #string\nb = 3 #integer\nc = 3.141596 #float\nf,g = 0, 1\nd = [a,b,c] #list",
      "metadata": {
        "trusted": true
      },
      "execution_count": null,
      "outputs": []
    },
    {
      "cell_type": "code",
      "source": "a #calling a variable",
      "metadata": {
        "trusted": true
      },
      "execution_count": null,
      "outputs": []
    },
    {
      "cell_type": "code",
      "source": "d",
      "metadata": {
        "trusted": true
      },
      "execution_count": null,
      "outputs": []
    },
    {
      "cell_type": "code",
      "source": "print(a) #printing the variable allows the user to see the output",
      "metadata": {
        "trusted": true
      },
      "execution_count": null,
      "outputs": []
    },
    {
      "cell_type": "markdown",
      "source": "# Objective 3",
      "metadata": {}
    },
    {
      "cell_type": "code",
      "source": "e = ['number',1,4,6, d]",
      "metadata": {
        "trusted": true
      },
      "execution_count": null,
      "outputs": []
    },
    {
      "cell_type": "code",
      "source": "e",
      "metadata": {
        "trusted": true
      },
      "execution_count": null,
      "outputs": []
    },
    {
      "cell_type": "code",
      "source": "e[0] #indexing",
      "metadata": {
        "trusted": true
      },
      "execution_count": null,
      "outputs": []
    },
    {
      "cell_type": "code",
      "source": "e[4]",
      "metadata": {
        "trusted": true
      },
      "execution_count": null,
      "outputs": []
    },
    {
      "cell_type": "code",
      "source": "e[4][0]",
      "metadata": {
        "trusted": true
      },
      "execution_count": null,
      "outputs": []
    },
    {
      "cell_type": "code",
      "source": "e[4][0][1]",
      "metadata": {
        "trusted": true
      },
      "execution_count": null,
      "outputs": []
    },
    {
      "cell_type": "code",
      "source": "#slicing\nyes = e[1:4] #inclusive of first index, and exclusive of last index\nprint(yes)",
      "metadata": {
        "trusted": true
      },
      "execution_count": null,
      "outputs": []
    },
    {
      "cell_type": "code",
      "source": "e = e[1:4]",
      "metadata": {
        "trusted": true
      },
      "execution_count": null,
      "outputs": []
    },
    {
      "cell_type": "code",
      "source": "e",
      "metadata": {
        "trusted": true
      },
      "execution_count": null,
      "outputs": []
    },
    {
      "cell_type": "code",
      "source": "yes",
      "metadata": {
        "trusted": true
      },
      "execution_count": null,
      "outputs": []
    },
    {
      "cell_type": "code",
      "source": "#appending\nyes.append(8)\nprint(yes)",
      "metadata": {
        "trusted": true
      },
      "execution_count": null,
      "outputs": []
    },
    {
      "cell_type": "code",
      "source": "",
      "metadata": {
        "trusted": true
      },
      "execution_count": null,
      "outputs": []
    },
    {
      "cell_type": "code",
      "source": "",
      "metadata": {},
      "execution_count": null,
      "outputs": []
    }
  ]
}